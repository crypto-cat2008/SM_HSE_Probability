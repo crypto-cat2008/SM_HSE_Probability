{
 "cells": [
  {
   "cell_type": "code",
   "execution_count": 72,
   "metadata": {},
   "outputs": [
    {
     "data": {
      "text/plain": [
       "[0, 2, 1]"
      ]
     },
     "execution_count": 72,
     "metadata": {},
     "output_type": "execute_result"
    }
   ],
   "source": [
    "def stableMatching(n, menPreferences, womenPreferences):\n",
    "# Do not change the function definition line.\n",
    "\n",
    "    # Initially, all n men are unmarried\n",
    "    unmarriedMen = list(range(n))\n",
    "    \n",
    "    # None of the men has a spouse yet, we denote this by the value None\n",
    "    manSpouse = [None] * n  \n",
    "    \n",
    "    # None of the women has a spouse yet, we denote this by the value None\n",
    "    womanSpouse = [None] * n  \n",
    "    \n",
    "    # Each man made 0 proposals, which means that \n",
    "    # his next proposal will be to the woman number 0 in his list\n",
    "    nextManChoice = [0] * n  \n",
    "    \n",
    "    # While there exists at least one unmarried man:\n",
    "    while unmarriedMen:\n",
    "        # Pick an arbitrary unmarried man\n",
    "        he = unmarriedMen[0]                      \n",
    "        # Store his ranking in this variable for convenience\n",
    "        hisPreferences = menPreferences[he]       \n",
    "        # Find a woman to propose to\n",
    "        she = hisPreferences[nextManChoice[he]] \n",
    "        # Store her ranking in this variable for convenience\n",
    "        herPreferences = womenPreferences[she]\n",
    "        # Find the present husband of the selected woman (it might be None)\n",
    "        currentHusband = womanSpouse[she] \n",
    "        \n",
    "        # Write your code here\n",
    "        # Now \"he\" proposes to \"she\". \n",
    "        if currentHusband == None:\n",
    "            womanSpouse[she] = he\n",
    "            manSpouse[he] = she\n",
    "            unmarriedMen.remove(he)\n",
    "            nextManChoice[he] = nextManChoice[he] + 1\n",
    "\n",
    "        else:\n",
    "            for i, value in enumerate(herPreferences): \n",
    "                if value == he:\n",
    "                    tmp1=i\n",
    "\n",
    "            for k, value in enumerate(herPreferences):\n",
    "                if value == currentHusband:\n",
    "                    tmp2=k\n",
    "\n",
    "            if tmp1 < tmp2:\n",
    "                womanSpouse[she] = he\n",
    "                manSpouse[he] = she\n",
    "                unmarriedMen.remove(he)\n",
    "                unmarriedMen.append(currentHusband)\n",
    "                nextManChoice[he] = nextManChoice[he] + 1\n",
    "            else:\n",
    "                nextManChoice[he] = nextManChoice[he] + 1\n",
    " \n",
    "            \n",
    "            \n",
    "        # Decide whether \"she\" accepts, and update the following fields\n",
    "        # 1. manSpouse\n",
    "        # 2. womanSpouse\n",
    "        # 3. unmarriedMen\n",
    "        # 4. nextManChoice\n",
    "            \n",
    "\n",
    "    return manSpouse\n",
    "    \n",
    "# You might want to test your implementation on the following two tests:\n",
    "# assert(stableMatching(1, [ [0] ], [ [0] ]) == [0])\n",
    "# assert(stableMatching(2, [ [0,1], [1,0] ], [ [0,1], [1,0] ]) == [0, 1])\n",
    "\n",
    "stableMatching(3, [ [0,1,2], [2,1,0], [1,2,0] ], [ [2,1,0], [0,1,2], [1,0,2] ])\n",
    "#stableMatching(2, [ [0,1], [1,0] ], [ [0,1], [1,0] ])\n",
    "\n",
    "#stableMatching(2, [ [0,1], [0,1] ], [ [1,0], [0,1] ])"
   ]
  },
  {
   "cell_type": "code",
   "execution_count": 59,
   "metadata": {},
   "outputs": [
    {
     "data": {
      "text/plain": [
       "[0]"
      ]
     },
     "execution_count": 59,
     "metadata": {},
     "output_type": "execute_result"
    }
   ],
   "source": []
  },
  {
   "cell_type": "code",
   "execution_count": null,
   "metadata": {},
   "outputs": [],
   "source": []
  }
 ],
 "metadata": {
  "kernelspec": {
   "display_name": "Python 3",
   "language": "python",
   "name": "python3"
  },
  "language_info": {
   "codemirror_mode": {
    "name": "ipython",
    "version": 3
   },
   "file_extension": ".py",
   "mimetype": "text/x-python",
   "name": "python",
   "nbconvert_exporter": "python",
   "pygments_lexer": "ipython3",
   "version": "3.7.4"
  }
 },
 "nbformat": 4,
 "nbformat_minor": 2
}
