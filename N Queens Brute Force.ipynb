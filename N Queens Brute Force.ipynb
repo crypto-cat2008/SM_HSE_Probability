{
 "cells": [
  {
   "cell_type": "code",
   "execution_count": 1,
   "metadata": {},
   "outputs": [],
   "source": [
    "import itertools as it"
   ]
  },
  {
   "cell_type": "code",
   "execution_count": 2,
   "metadata": {},
   "outputs": [],
   "source": [
    "def is_solution(perm):\n",
    "    for (i1, i2) in it.combinations(range(len(perm)), 2):\n",
    "        print(i1, i2, perm)\n",
    "        if abs(i1 - i2) == abs(perm[i1] - perm[i2]):\n",
    "            return False\n",
    "\n",
    "    return True"
   ]
  },
  {
   "cell_type": "code",
   "execution_count": 3,
   "metadata": {},
   "outputs": [
    {
     "name": "stdout",
     "output_type": "stream",
     "text": [
      "origin (0, 1, 2, 3)\n",
      "0 1 (0, 1, 2, 3)\n",
      "origin (0, 1, 3, 2)\n",
      "0 1 (0, 1, 3, 2)\n",
      "origin (0, 2, 1, 3)\n",
      "0 1 (0, 2, 1, 3)\n",
      "0 2 (0, 2, 1, 3)\n",
      "0 3 (0, 2, 1, 3)\n",
      "origin (0, 2, 3, 1)\n",
      "0 1 (0, 2, 3, 1)\n",
      "0 2 (0, 2, 3, 1)\n",
      "0 3 (0, 2, 3, 1)\n",
      "1 2 (0, 2, 3, 1)\n",
      "origin (0, 3, 1, 2)\n",
      "0 1 (0, 3, 1, 2)\n",
      "0 2 (0, 3, 1, 2)\n",
      "0 3 (0, 3, 1, 2)\n",
      "1 2 (0, 3, 1, 2)\n",
      "1 3 (0, 3, 1, 2)\n",
      "2 3 (0, 3, 1, 2)\n",
      "origin (0, 3, 2, 1)\n",
      "0 1 (0, 3, 2, 1)\n",
      "0 2 (0, 3, 2, 1)\n",
      "origin (1, 0, 2, 3)\n",
      "0 1 (1, 0, 2, 3)\n",
      "origin (1, 0, 3, 2)\n",
      "0 1 (1, 0, 3, 2)\n",
      "origin (1, 2, 0, 3)\n",
      "0 1 (1, 2, 0, 3)\n",
      "origin (1, 2, 3, 0)\n",
      "0 1 (1, 2, 3, 0)\n",
      "origin (1, 3, 0, 2)\n",
      "0 1 (1, 3, 0, 2)\n",
      "0 2 (1, 3, 0, 2)\n",
      "0 3 (1, 3, 0, 2)\n",
      "1 2 (1, 3, 0, 2)\n",
      "1 3 (1, 3, 0, 2)\n",
      "2 3 (1, 3, 0, 2)\n",
      "result (1, 3, 0, 2)\n",
      "origin (1, 3, 2, 0)\n",
      "0 1 (1, 3, 2, 0)\n",
      "0 2 (1, 3, 2, 0)\n",
      "0 3 (1, 3, 2, 0)\n",
      "1 2 (1, 3, 2, 0)\n",
      "origin (2, 0, 1, 3)\n",
      "0 1 (2, 0, 1, 3)\n",
      "0 2 (2, 0, 1, 3)\n",
      "0 3 (2, 0, 1, 3)\n",
      "1 2 (2, 0, 1, 3)\n",
      "origin (2, 0, 3, 1)\n",
      "0 1 (2, 0, 3, 1)\n",
      "0 2 (2, 0, 3, 1)\n",
      "0 3 (2, 0, 3, 1)\n",
      "1 2 (2, 0, 3, 1)\n",
      "1 3 (2, 0, 3, 1)\n",
      "2 3 (2, 0, 3, 1)\n",
      "result (2, 0, 3, 1)\n",
      "origin (2, 1, 0, 3)\n",
      "0 1 (2, 1, 0, 3)\n",
      "origin (2, 1, 3, 0)\n",
      "0 1 (2, 1, 3, 0)\n",
      "origin (2, 3, 0, 1)\n",
      "0 1 (2, 3, 0, 1)\n",
      "origin (2, 3, 1, 0)\n",
      "0 1 (2, 3, 1, 0)\n",
      "origin (3, 0, 1, 2)\n",
      "0 1 (3, 0, 1, 2)\n",
      "0 2 (3, 0, 1, 2)\n",
      "origin (3, 0, 2, 1)\n",
      "0 1 (3, 0, 2, 1)\n",
      "0 2 (3, 0, 2, 1)\n",
      "0 3 (3, 0, 2, 1)\n",
      "1 2 (3, 0, 2, 1)\n",
      "1 3 (3, 0, 2, 1)\n",
      "2 3 (3, 0, 2, 1)\n",
      "origin (3, 1, 0, 2)\n",
      "0 1 (3, 1, 0, 2)\n",
      "0 2 (3, 1, 0, 2)\n",
      "0 3 (3, 1, 0, 2)\n",
      "1 2 (3, 1, 0, 2)\n",
      "origin (3, 1, 2, 0)\n",
      "0 1 (3, 1, 2, 0)\n",
      "0 2 (3, 1, 2, 0)\n",
      "0 3 (3, 1, 2, 0)\n",
      "origin (3, 2, 0, 1)\n",
      "0 1 (3, 2, 0, 1)\n",
      "origin (3, 2, 1, 0)\n",
      "0 1 (3, 2, 1, 0)\n"
     ]
    }
   ],
   "source": [
    "for perm in it.permutations(range(4)):\n",
    "    print('origin', perm)\n",
    "    if is_solution(perm):\n",
    "        print('result', perm)\n",
    "        exit()"
   ]
  },
  {
   "cell_type": "code",
   "execution_count": null,
   "metadata": {},
   "outputs": [],
   "source": []
  },
  {
   "cell_type": "code",
   "execution_count": null,
   "metadata": {},
   "outputs": [],
   "source": []
  }
 ],
 "metadata": {
  "kernelspec": {
   "display_name": "Python 3",
   "language": "python",
   "name": "python3"
  },
  "language_info": {
   "codemirror_mode": {
    "name": "ipython",
    "version": 3
   },
   "file_extension": ".py",
   "mimetype": "text/x-python",
   "name": "python",
   "nbconvert_exporter": "python",
   "pygments_lexer": "ipython3",
   "version": "3.7.4"
  }
 },
 "nbformat": 4,
 "nbformat_minor": 2
}
