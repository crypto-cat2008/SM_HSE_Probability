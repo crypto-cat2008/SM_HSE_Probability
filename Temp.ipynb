{
 "cells": [
  {
   "cell_type": "code",
   "execution_count": 6,
   "metadata": {},
   "outputs": [],
   "source": [
    "def bellman_ford(start):\n",
    "    dist = [float(math.inf) for i in range(n)]\n",
    "    dist[start] = 0\n",
    "    \n",
    "    for i in range(1, n): # V-1 edges\n",
    "        for u, v, c in edges: \n",
    "            dist[v] = min(dist[v], d[u] + c) # c- cost of u-v edge\n",
    "            \n",
    "    return dist"
   ]
  },
  {
   "cell_type": "code",
   "execution_count": 7,
   "metadata": {},
   "outputs": [
    {
     "name": "stdout",
     "output_type": "stream",
     "text": [
      "inf <class 'float'>\n"
     ]
    }
   ],
   "source": [
    "a = float('inf')\n",
    "print(a, type(a))"
   ]
  },
  {
   "cell_type": "code",
   "execution_count": 10,
   "metadata": {},
   "outputs": [],
   "source": [
    "from heapq import heappop, heappush\n",
    "\n",
    "def dijkstra(start):\n",
    "    dist = [float('inf') for i in range(n)]  # n - number of vetrices in our graph\n",
    "    head = []\n",
    "    visited = [False for i in range(n)]\n",
    "    \n",
    "    heappush(heap, (0, start))\n",
    "    dist[start] = 0\n",
    "    \n",
    "    while len(heap) > 0:   \n",
    "        d, v = heappop(heap)\n",
    "        visited[v] = True\n",
    "        \n",
    "        if dist[v] < d:\n",
    "            continue\n",
    "            \n",
    "        for u, c in graph[v]:\n",
    "            if not visisted[u] and d +c < d[u]:\n",
    "                dist[u] = d + c\n",
    "                heappush(heap, (d[u], u))\n",
    "     \n",
    "    return dist"
   ]
  },
  {
   "cell_type": "code",
   "execution_count": null,
   "metadata": {},
   "outputs": [],
   "source": [
    "def prefix_finction(s):\n",
    "    n = len(s)\n",
    "    prefix = [0 for i in range(n)]\n",
    "    \n",
    "    for i in range(1, n):\n",
    "        \n",
    "        x = prefix[i - 1]\n",
    "        \n",
    "        while x > 0 and s[i] != s[x]:\n",
    "            x = prefix[x - 1]\n",
    "        \n",
    "        if s[i] == s[x]:\n",
    "            prefix[i] = x + 1\n",
    "    \n",
    "    return prefix"
   ]
  },
  {
   "cell_type": "code",
   "execution_count": null,
   "metadata": {},
   "outputs": [],
   "source": [
    "def kmp(text, pattern):\n",
    "    \n",
    " \n",
    "    \n",
    "    "
   ]
  },
  {
   "cell_type": "code",
   "execution_count": null,
   "metadata": {},
   "outputs": [],
   "source": [
    "def z_function(s):\n",
    "    n = len(s)\n",
    "    z = [0 for i in range(n)]\n",
    "    \n",
    "    l, r = 0, 0\n",
    "    \n",
    "    for i in range(1, n):\n",
    "        if i <= r:\n",
    "            z[i] = min(z[i - l], r - i + 1)\n",
    "            \n",
    "        while i + z[i] < n and s[z[i] + i] == s[z[i]]:\n",
    "            z[i] += 1\n",
    "            \n",
    "        new_r = i + z[i] - 1\n",
    "        if new_r > r:\n",
    "            l, r = i, new_r\n",
    "    \n",
    "    return z"
   ]
  },
  {
   "cell_type": "code",
   "execution_count": 3,
   "metadata": {},
   "outputs": [
    {
     "ename": "SyntaxError",
     "evalue": "invalid syntax (<ipython-input-3-8bbbf64fefbf>, line 17)",
     "output_type": "error",
     "traceback": [
      "\u001b[1;36m  File \u001b[1;32m\"<ipython-input-3-8bbbf64fefbf>\"\u001b[1;36m, line \u001b[1;32m17\u001b[0m\n\u001b[1;33m    window_hash = (window_hash * p + order(text[i]) % q\u001b[0m\n\u001b[1;37m    ^\u001b[0m\n\u001b[1;31mSyntaxError\u001b[0m\u001b[1;31m:\u001b[0m invalid syntax\n"
     ]
    }
   ],
   "source": [
    "def order(c):\n",
    "    return ord(c) - ord('a') + 1\n",
    "\n",
    "def rabin_karp(text, pattern):\n",
    "    n, m = len(text), len(pattern)\n",
    "    p, q = 31, 10**9 + 7\n",
    "    \n",
    "    p_pow = 1\n",
    "    for i in range(m  -1):\n",
    "        p_pow = (p_pow * p) % q\n",
    "        \n",
    "    pattern_hash = 0\n",
    "    window_hash = 0\n",
    "    \n",
    "    for i in range(m):\n",
    "        pattern_hash = (pattern_hash * p + order(pattern[i]) % q\n",
    "        window_hash = (window_hash * p + order(text[i]) % q\n",
    "        \n",
    "    for i in range(n - m + 1):\n",
    "        if pattern_hash == window_hash:\n",
    "            match = True\n",
    "                       \n",
    "            for j in range(m):\n",
    "                if pattern[j] != text[i + j]:\n",
    "                    match = False\n",
    "                    break\n",
    "                if match:\n",
    "                    yield i\n",
    "        if i < n - m:          \n",
    "            window_hash = (window_hash - order(text[i]) * p_pow) % q\n",
    "            window_hash = (window_hash * p + order(text[i + m])) % q\n",
    "            window_hash = (window_hash + q) % q\n",
    "                       \n",
    "                    "
   ]
  },
  {
   "cell_type": "code",
   "execution_count": 6,
   "metadata": {},
   "outputs": [
    {
     "name": "stdout",
     "output_type": "stream",
     "text": [
      "65 90 97 122 46\n"
     ]
    }
   ],
   "source": [
    "print(ord('A'), ord('Z'), ord('a'), ord('z'), ord('.'))"
   ]
  },
  {
   "cell_type": "code",
   "execution_count": 10,
   "metadata": {},
   "outputs": [
    {
     "name": "stdout",
     "output_type": "stream",
     "text": [
      "[4, 3, 2, 1, 0]\n"
     ]
    }
   ],
   "source": [
    "a = [i for i in range(4,-1,-1)]\n",
    "print(a)"
   ]
  },
  {
   "cell_type": "code",
   "execution_count": 1,
   "metadata": {},
   "outputs": [],
   "source": [
    "from numpy.random import choice\n",
    "import matplotlib.pyplot as plt\n",
    "import numpy as np\n",
    "%matplotlib inline"
   ]
  },
  {
   "cell_type": "code",
   "execution_count": 9,
   "metadata": {},
   "outputs": [],
   "source": [
    "sample = choice([1, 2, 3, 4], p=[1/6,1/4,1/3,1/4], size=1000)"
   ]
  },
  {
   "cell_type": "code",
   "execution_count": 10,
   "metadata": {},
   "outputs": [
    {
     "data": {
      "text/plain": [
       "<BarContainer object of 4 artists>"
      ]
     },
     "execution_count": 10,
     "metadata": {},
     "output_type": "execute_result"
    },
    {
     "data": {
      "image/png": "[encoded data removed]",
      "text/plain": [
       "<Figure size 432x288 with 1 Axes>"
      ]
     },
     "metadata": {
      "needs_background": "light"
     },
     "output_type": "display_data"
    }
   ],
   "source": [
    "def count_frequencies(data, relative=False):\n",
    "    counter = {}\n",
    "    for element in data:\n",
    "        if element not in counter:\n",
    "            # get this element for the first time\n",
    "            counter [element] = 1\n",
    "        else:\n",
    "            counter[element] += 1\n",
    "\n",
    "    if relative:\n",
    "        for element in counter:\n",
    "            counter[element] /= len(data)\n",
    "\n",
    "    return counter\n",
    "freqs = count_frequencies(sample, relative=True)\n",
    "plt.bar(list(freqs.keys()),list(freqs.values()))"
   ]
  },
  {
   "cell_type": "code",
   "execution_count": 11,
   "metadata": {},
   "outputs": [
    {
     "name": "stdout",
     "output_type": "stream",
     "text": [
      "('Physical', 'Physical', 'Mathematical', 'Mathematical') 0.018518518518518517\n",
      "('Physical', 'Economical', 'Mathematical', 'Mathematical') 0.05555555555555555\n",
      "('Physical', 'Economical', 'Mathematical', 'Psychological') 0.08333333333333333\n",
      "('Physical', 'Mathematical', 'Mathematical', 'Mathematical') 0.02469135802469135\n",
      "('Physical', 'Mathematical', 'Mathematical', 'Psychological') 0.05555555555555555\n",
      "('Economical', 'Economical', 'Mathematical', 'Mathematical') 0.041666666666666664\n",
      "('Economical', 'Mathematical', 'Mathematical', 'Mathematical') 0.03703703703703703\n",
      "('Economical', 'Mathematical', 'Mathematical', 'Psychological') 0.08333333333333333\n",
      "('Mathematical', 'Mathematical', 'Mathematical', 'Mathematical') 0.012345679012345678\n",
      "('Mathematical', 'Mathematical', 'Mathematical', 'Psychological') 0.03703703703703703\n",
      "('Mathematical', 'Mathematical', 'Psychological', 'Psychological') 0.041666666666666664\n",
      "\n",
      "Total:  0.4907407407407407\n"
     ]
    }
   ],
   "source": [
    "import numpy as np\n",
    "from scipy import stats as st\n",
    "import itertools as it\n",
    "import math\n",
    "\n",
    "faculty_list = ['Physical','Economical','Mathematical','Psychological']\n",
    "\n",
    "prob = {'Physical':1/6, 'Economical':1/4, 'Mathematical': 1/3, 'Psychological': 1/4}\n",
    "\n",
    "def get_prob(var, prob):\n",
    "    pr = 1\n",
    "    n = len(var)\n",
    "    for k, v in prob.items():\n",
    "        m = var.count(k)\n",
    "        pr *= v**m/(math.factorial(m))\n",
    "    return pr*math.factorial(n)\n",
    "\n",
    "pp = 0\n",
    "for i in [x for x in list(it.combinations_with_replacement(faculty_list, 4)) if x.count('Mathematical') >= 2 or \\\n",
    "         (x.count('Mathematical') == 1 and x.count('Physical') == 1 and x.count('Economical') == 1 and x.count('Psychological') == 1)]:\n",
    "    print(i, get_prob(i, prob))\n",
    "    pp += get_prob(i, prob)\n",
    "print('\\nTotal: ', pp)"
   ]
  },
  {
   "cell_type": "code",
   "execution_count": null,
   "metadata": {},
   "outputs": [],
   "source": []
  }
 ],
 "metadata": {
  "kernelspec": {
   "display_name": "Python 3",
   "language": "python",
   "name": "python3"
  },
  "language_info": {
   "codemirror_mode": {
    "name": "ipython",
    "version": 3
   },
   "file_extension": ".py",
   "mimetype": "text/x-python",
   "name": "python",
   "nbconvert_exporter": "python",
   "pygments_lexer": "ipython3",
   "version": "3.8.5"
  }
 },
 "nbformat": 4,
 "nbformat_minor": 4
}
