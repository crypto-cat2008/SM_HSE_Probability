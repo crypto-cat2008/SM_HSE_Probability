{
 "cells": [
  {
   "cell_type": "code",
   "execution_count": 14,
   "metadata": {},
   "outputs": [
    {
     "name": "stdout",
     "output_type": "stream",
     "text": [
      "1\n",
      "range(0, 1)\n",
      "{0}\n",
      "{0}\n",
      "True\n",
      "3\n",
      "range(0, 3)\n",
      "{0, 1, 2}\n",
      "{0, 1, 2}\n",
      "True\n",
      "3\n",
      "range(0, 3)\n",
      "{0, 1, 2}\n",
      "{1, 2, 3}\n",
      "False\n"
     ]
    }
   ],
   "source": [
    "def is_permutation(p):\n",
    "    print(len(p))\n",
    "    print(range(len(p)))\n",
    "    print(set(range(len(p))))\n",
    "    print(set(p))\n",
    "    \n",
    "    return (set(p)==set(range(len(p))))\n",
    "       \n",
    "print (is_permutation([0]))\n",
    "print (is_permutation([0,2,1]))\n",
    "print (is_permutation([1,2,3]))\n",
    "    "
   ]
  },
  {
   "cell_type": "code",
   "execution_count": 67,
   "metadata": {},
   "outputs": [
    {
     "name": "stdout",
     "output_type": "stream",
     "text": [
      "True\n"
     ]
    }
   ],
   "source": [
    "def is_even(p):\n",
    "\n",
    "    sign = 0 # sign = 0 means even, 1 means odd\n",
    "\n",
    "    for i in range(len(p)):\n",
    "        u = p[i]\n",
    "        t = u\n",
    "        j=i\n",
    "        #print('for', i, u, t)\n",
    "    \n",
    "        inx_set = False\n",
    "    \n",
    "        while j < len(p)-1:\n",
    "            u = p[j+1]\n",
    "            if u < t:\n",
    "                #print ('while', j, t, u)\n",
    "                t = u\n",
    "                inx = j+1\n",
    "                inx_set = True\n",
    "            j = j+1     \n",
    "    \n",
    "        if inx_set:\n",
    "            temp = p[i]\n",
    "            p[i] = p[inx]\n",
    "            p[inx] = temp\n",
    "            sign = 1 - sign\n",
    "            #print('sign', sign, p)\n",
    "        \n",
    "    if sign == 0:\n",
    "        return(True)\n",
    "    else:\n",
    "        return (False)\n",
    "\n",
    "    \n",
    "print(is_even([0,3,2,4,5,6,7,1,9,8]))\n"
   ]
  },
  {
   "cell_type": "code",
   "execution_count": null,
   "metadata": {},
   "outputs": [],
   "source": []
  },
  {
   "cell_type": "code",
   "execution_count": null,
   "metadata": {},
   "outputs": [],
   "source": []
  }
 ],
 "metadata": {
  "kernelspec": {
   "display_name": "Python 3",
   "language": "python",
   "name": "python3"
  },
  "language_info": {
   "codemirror_mode": {
    "name": "ipython",
    "version": 3
   },
   "file_extension": ".py",
   "mimetype": "text/x-python",
   "name": "python",
   "nbconvert_exporter": "python",
   "pygments_lexer": "ipython3",
   "version": "3.7.4"
  }
 },
 "nbformat": 4,
 "nbformat_minor": 2
}
