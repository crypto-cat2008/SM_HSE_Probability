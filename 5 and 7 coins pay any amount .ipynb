{
 "cells": [
  {
   "cell_type": "code",
   "execution_count": 75,
   "metadata": {},
   "outputs": [
    {
     "name": "stdout",
     "output_type": "stream",
     "text": [
      "[7, 7, 7, 5, 5, 5, 5, 5, 5, 5, 5, 5, 5, 5, 5, 5, 5, 5, 5, 5, 5, 5, 5, 5, 5, 5, 5, 5, 5, 5, 5, 5, 5, 5, 5, 5, 5, 5, 5, 5, 5, 5, 5, 5, 5, 5, 5, 5, 5, 5, 5, 5, 5, 5, 5, 5, 5, 5, 5, 5, 5, 5, 5, 5, 5, 5, 5, 5, 5, 5, 5, 5, 5, 5, 5, 5, 5, 5, 5, 5, 5, 5, 5, 5, 5, 5, 5, 5, 5, 5, 5, 5, 5, 5, 5, 5, 5, 5, 5, 5, 5, 5, 5, 5, 5, 5, 5, 5, 5, 5, 5, 5, 5, 5, 5, 5, 5, 5, 5, 5, 5, 5, 5, 5, 5, 5, 5, 5, 5, 5, 5, 5, 5, 5, 5, 5, 5, 5, 5, 5, 5, 5, 5, 5, 5, 5, 5, 5, 5, 5, 5, 5, 5, 5, 5, 5, 5, 5, 5, 5, 5, 5, 5, 5, 5, 5, 5, 5, 5, 5, 5, 5, 5, 5, 5, 5, 5, 5, 5, 5, 5, 5, 5, 5, 5, 5, 5, 5, 5, 5, 5, 5, 5, 5, 5, 5, 5, 7] 998 198\n"
     ]
    }
   ],
   "source": [
    "i = 0\n",
    "\n",
    "def change(amount):\n",
    "#    global i\n",
    "#    i = i + 1\n",
    "    \n",
    "    divisor = 5\n",
    "    \n",
    "    if (amount - 23) % 5 == 0:\n",
    "        divisor = 7\n",
    "        \n",
    "#    print (i, amount, divisor)\n",
    "    \n",
    "    if amount < 23:\n",
    "        if amount == 22: \n",
    "            return [5,5,5,7]\n",
    "        if amount == 21:\n",
    "            return [7,7,7]\n",
    "        if amount == 20:\n",
    "            return [5,5,5,5]\n",
    "        if amount == 19:\n",
    "            return [7,7,5]\n",
    "        if amount == 17:\n",
    "            return [5,5,7]\n",
    "        if amount == 15:\n",
    "            return [5,5,5]\n",
    "        if amount == 14:\n",
    "            return [7,7]\n",
    "        if amount == 12:\n",
    "            return [5,7]\n",
    "        if amount == 10:\n",
    "            return [5,5]\n",
    "        if amount == 7:\n",
    "            return [7]\n",
    "        if amount == 5:\n",
    "            return [5]\n",
    "        \n",
    "    \n",
    "    coins = change(amount - divisor)\n",
    "    coins.append(divisor)\n",
    "    return coins\n",
    "\n",
    "\n",
    "test = change (998)\n",
    "print(test, sum(test), len(test))\n",
    "\n",
    "\n",
    "        "
   ]
  },
  {
   "cell_type": "code",
   "execution_count": null,
   "metadata": {},
   "outputs": [],
   "source": []
  }
 ],
 "metadata": {
  "kernelspec": {
   "display_name": "Python 3",
   "language": "python",
   "name": "python3"
  },
  "language_info": {
   "codemirror_mode": {
    "name": "ipython",
    "version": 3
   },
   "file_extension": ".py",
   "mimetype": "text/x-python",
   "name": "python",
   "nbconvert_exporter": "python",
   "pygments_lexer": "ipython3",
   "version": "3.7.4"
  }
 },
 "nbformat": 4,
 "nbformat_minor": 2
}
