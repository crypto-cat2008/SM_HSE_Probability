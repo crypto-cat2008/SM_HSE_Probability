{
 "cells": [
  {
   "cell_type": "code",
   "execution_count": 8,
   "metadata": {},
   "outputs": [
    {
     "name": "stdout",
     "output_type": "stream",
     "text": [
      "2\n",
      "3416723\n",
      "2\n"
     ]
    }
   ],
   "source": [
    "def gcd(a, b):\n",
    "  assert a >= 0 and b >= 0 and a + b > 0\n",
    "\n",
    "  while a > 0 and b > 0:\n",
    "    if a >= b:\n",
    "      a = a % b\n",
    "    else:\n",
    "      b = b % a\n",
    "\n",
    "  return max(a, b)\n",
    "\n",
    "\n",
    "print(gcd(10, 6))\n",
    "print(gcd(790933790547, 1849639579327))\n",
    "print(gcd(790933790548, 2))"
   ]
  },
  {
   "cell_type": "code",
   "execution_count": 6,
   "metadata": {},
   "outputs": [
    {
     "name": "stdout",
     "output_type": "stream",
     "text": [
      "in 10 6 4\n",
      "in 6 4 2\n",
      "in 4 2 0\n",
      "out 2 1 0\n",
      "out 2 0 1\n",
      "out 2 1 -1\n",
      "(2, -1, 2)\n",
      "in 7 5 2\n",
      "in 5 2 1\n",
      "in 2 1 0\n",
      "out 1 1 0\n",
      "out 1 0 1\n",
      "out 1 1 -2\n",
      "(1, -2, 3)\n",
      "in 391 299 92\n",
      "in 299 92 23\n",
      "in 92 23 0\n",
      "out 23 1 0\n",
      "out 23 0 1\n",
      "out 23 1 -3\n",
      "(23, -3, 4)\n",
      "in 239 201 38\n",
      "in 201 38 11\n",
      "in 38 11 5\n",
      "in 11 5 1\n",
      "in 5 1 0\n",
      "out 1 1 0\n",
      "out 1 0 1\n",
      "out 1 1 -2\n",
      "out 1 -2 7\n",
      "out 1 7 -37\n",
      "(1, -37, 44)\n"
     ]
    }
   ],
   "source": [
    "def extended_gcd(a, b):\n",
    "  assert a >= b and b >= 0 and a + b > 0\n",
    "\n",
    "  if b == 0:\n",
    "    d, x, y = a, 1, 0\n",
    "  else:\n",
    "    print(\"in\", a, b, a%b)\n",
    "    (d, p, q) = extended_gcd(b, a % b)\n",
    "    print(\"out\", d, p, q)\n",
    "    x = q\n",
    "    y = p - q * (a // b)\n",
    "\n",
    "  assert a % d == 0 and b % d == 0\n",
    "  assert d == a * x + b * y\n",
    "  return (d, x, y)\n",
    "\n",
    "print(extended_gcd(10,6))\n",
    "print(extended_gcd(7,5))\n",
    "print(extended_gcd(391,299))\n",
    "print(extended_gcd(239,201))"
   ]
  },
  {
   "cell_type": "code",
   "execution_count": 14,
   "metadata": {},
   "outputs": [
    {
     "name": "stdout",
     "output_type": "stream",
     "text": [
      "2\n",
      "15\n"
     ]
    }
   ],
   "source": [
    "def squares(n, m):\n",
    "    \n",
    "    n1 = n\n",
    "    m1 = m\n",
    "    \n",
    "    while n > 0 and m > 0:\n",
    "        if n >= m:\n",
    "            n = n % m\n",
    "        else:\n",
    "            m = m % n\n",
    "\n",
    "    d = max(n, m)\n",
    "    print(d)\n",
    "    \n",
    "    return (n1//d) * (m1//d)\n",
    "\n",
    "print(squares(10,6))"
   ]
  },
  {
   "cell_type": "code",
   "execution_count": 15,
   "metadata": {},
   "outputs": [
    {
     "name": "stdout",
     "output_type": "stream",
     "text": [
      "70\n"
     ]
    }
   ],
   "source": [
    "def lcm(a, b):\n",
    "  assert a > 0 and b > 0\n",
    "\n",
    "  a1 = a\n",
    "  b1 = b\n",
    "\n",
    "  while a > 0 and b > 0:\n",
    "    if a >= b:\n",
    "      a = a % b\n",
    "    else:\n",
    "      b = b % a\n",
    "\n",
    "  gcd = max(a, b)\n",
    "  \n",
    "\n",
    "  return (a1*b1//gcd)\n",
    "\n",
    "print(lcm(35,70))"
   ]
  },
  {
   "cell_type": "code",
   "execution_count": 28,
   "metadata": {},
   "outputs": [
    {
     "name": "stdout",
     "output_type": "stream",
     "text": [
      "3 1 0\n",
      "3 0 1\n",
      "3 1 0\n",
      "(6, 0)\n"
     ]
    }
   ],
   "source": [
    "def gcd(a, b):\n",
    "  assert a >= 0 and b >= 0 and a + b > 0\n",
    "\n",
    "  while a > 0 and b > 0:\n",
    "    if a >= b:\n",
    "      a = a % b\n",
    "    else:\n",
    "      b = b % a\n",
    "  return max(a, b)\n",
    "\n",
    "def extended_gcd(a, b):\n",
    "  assert a >= b and b >= 0 and a + b > 0\n",
    "\n",
    "  if b == 0:\n",
    "    d, x, y = a, 1, 0\n",
    "  else:\n",
    "    (d, p, q) = extended_gcd(b, a % b)\n",
    "    x = q\n",
    "    y = p - q * (a // b)\n",
    "\n",
    "  assert a % d == 0 and b % d == 0\n",
    "  assert d == a * x + b * y\n",
    "  print(d, x, y)\n",
    "  return (d, x, y)\n",
    "\n",
    "def diophantine(a, b, c):\n",
    "  assert c % gcd(a, b) == 0\n",
    "  if a >= b:\n",
    "    (d,x,y) = extended_gcd(a, b)  \n",
    "  else:\n",
    "    (d,y,x) = extended_gcd(b, a) \n",
    "    \n",
    "  print(d,x,y)\n",
    "\n",
    "  div = c/d\n",
    "  x = int(x*div)\n",
    "  y = int(y*div)\n",
    "   \n",
    "  return (x, y)\n",
    "\n",
    "print(diophantine(3,6,18))"
   ]
  },
  {
   "cell_type": "code",
   "execution_count": 36,
   "metadata": {},
   "outputs": [
    {
     "name": "stdout",
     "output_type": "stream",
     "text": [
      "1 -4 1\n",
      "s -4\n",
      "s1 5\n",
      "8\n"
     ]
    }
   ],
   "source": [
    "def gcd(a, b):\n",
    "  assert a >= 0 and b >= 0 and a + b > 0\n",
    "\n",
    "  while a > 0 and b > 0:\n",
    "    if a >= b:\n",
    "      a = a % b\n",
    "    else:\n",
    "      b = b % a\n",
    "  return max(a, b)\n",
    "\n",
    "def extended_gcd(a, b):\n",
    "  assert a >= b and b >= 0 and a + b > 0\n",
    "\n",
    "  if b == 0:\n",
    "    d, x, y = a, 1, 0\n",
    "  else:\n",
    "    (d, p, q) = extended_gcd(b, a % b)\n",
    "    x = q\n",
    "    y = p - q * (a // b)\n",
    "\n",
    "  assert a % d == 0 and b % d == 0\n",
    "  assert d == a * x + b * y\n",
    "  return (d, x, y)\n",
    "\n",
    "def divide(a, b, n):  \n",
    "  assert n > 1 and a > 0 and gcd(a, n) == 1\n",
    "\n",
    "  if a >= n:\n",
    "    (d,s,t) = extended_gcd(a, n)  \n",
    "  else:\n",
    "    (d,t,s) = extended_gcd(n, a) \n",
    "\n",
    "  print(d,s,t)\n",
    "  print ('s', s)\n",
    "  s1 = s%n\n",
    "  print('s1', s1)\n",
    "  x = (b*s1)%n\n",
    "  \n",
    "  # return the number x s.t. x = b / a (mod n) and 0 <= x <= n-1.\n",
    "  return x\n",
    "\n",
    "print(divide(2,7,9))"
   ]
  },
  {
   "cell_type": "code",
   "execution_count": null,
   "metadata": {},
   "outputs": [],
   "source": []
  }
 ],
 "metadata": {
  "kernelspec": {
   "display_name": "Python 3",
   "language": "python",
   "name": "python3"
  },
  "language_info": {
   "codemirror_mode": {
    "name": "ipython",
    "version": 3
   },
   "file_extension": ".py",
   "mimetype": "text/x-python",
   "name": "python",
   "nbconvert_exporter": "python",
   "pygments_lexer": "ipython3",
   "version": "3.7.4"
  }
 },
 "nbformat": 4,
 "nbformat_minor": 2
}
